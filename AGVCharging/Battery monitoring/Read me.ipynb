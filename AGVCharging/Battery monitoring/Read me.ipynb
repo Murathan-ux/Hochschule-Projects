{
 "cells": [
  {
   "cell_type": "markdown",
   "id": "886620e1-4614-44cf-96bf-304bed96de85",
   "metadata": {},
   "source": [
    "* This is visual monitoring of the location ,battery capacity, online status and chargers distribution for robotinos in the IoT factory.Smart Selection of a robotino to go charge at a ceratin charger undercertain conditions . Automatic charging of Robotinos below the battery treshold (20%)Command of the robotinos to dock and charge in the IoT factory.\n",
    "\n",
    "* We used a traffic light system to send manually robotinos to the nearest charge and automatic charging for robotino less than 20 %\n",
    "\n"
   ]
  },
  {
   "cell_type": "code",
   "execution_count": null,
   "id": "7f0b2162-05f4-41f6-b18e-acfaeec5ef3b",
   "metadata": {},
   "outputs": [],
   "source": []
  }
 ],
 "metadata": {
  "kernelspec": {
   "display_name": "Python 3 (ipykernel)",
   "language": "python",
   "name": "python3"
  },
  "language_info": {
   "codemirror_mode": {
    "name": "ipython",
    "version": 3
   },
   "file_extension": ".py",
   "mimetype": "text/x-python",
   "name": "python",
   "nbconvert_exporter": "python",
   "pygments_lexer": "ipython3",
   "version": "3.12.4"
  }
 },
 "nbformat": 4,
 "nbformat_minor": 5
}
