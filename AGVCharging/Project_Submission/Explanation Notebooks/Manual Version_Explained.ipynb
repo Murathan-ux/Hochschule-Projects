{
 "cells": [
  {
   "cell_type": "code",
   "execution_count": null,
   "id": "13b71a5a-efae-4c65-b1b3-6d30907de2b6",
   "metadata": {},
   "outputs": [],
   "source": [
    "# The following notebook explains the provided Python code, which is for managing a fleet of robots (Robotinos) and their charging processes.\n",
    "# The code uses socket communication, threading, and logging to manage a fleet of robots, allocate chargers, and send messages.\n",
    "\n",
    "# 1. Importing Required Libraries\n",
    "import socket\n",
    "import threading\n",
    "import time\n",
    "import math\n",
    "import logging"
   ]
  },
  {
   "cell_type": "code",
   "execution_count": null,
   "id": "74f61553-682a-4f8c-ad8f-13ee64a3b809",
   "metadata": {},
   "outputs": [],
   "source": [
    "1. Library Imports\n",
    "The code imports the necessary libraries to manage socket communication, threading, time delays, mathematical operations, and logging.\n",
    "\n",
    "socket: Enables network communication for receiving and sending data over the network.\n",
    "threading: Used to handle multiple tasks (such as handling messages from clients and sending commands) concurrently.\n",
    "time: Provides utilities like delays between actions.\n",
    "math: Contains mathematical functions like calculating Euclidean distance.\n",
    "logging: Allows us to log information and errors during the program's execution."
   ]
  },
  {
   "cell_type": "code",
   "execution_count": null,
   "id": "8d9c35ce-a32a-48f4-b738-fd07e52af9dd",
   "metadata": {},
   "outputs": [],
   "source": [
    "# 2. Constants and Configuration Variables\n",
    "\n",
    "HOST = '0.0.0.0' # Host to listen on\n",
    "PORT = 13000 # Port for server to listen on\n",
    "JobId = 40 # Starting JobId\n",
    "MAX_BUFFER_SIZE = 4096 # Max buffer size for incoming messages\n",
    "CURRENT_ROBOTINO_STATE = None"
   ]
  },
  {
   "cell_type": "code",
   "execution_count": null,
   "id": "7b405bd5-db36-40c6-9ce5-a3378500ff84",
   "metadata": {},
   "outputs": [],
   "source": [
    "2. Global Variables and Configuration\n",
    "Here, the code defines a few important constants:\n",
    "\n",
    "HOST and PORT: Define the server's listening address and port.\n",
    "JobId: Initialized to 40, this is used to uniquely identify job commands for robots.\n",
    "MAX_BUFFER_SIZE: Sets the buffer size for receiving data."
   ]
  },
  {
   "cell_type": "code",
   "execution_count": null,
   "id": "edcb6ab1-5a46-42f7-81f3-4e4971dfb940",
   "metadata": {},
   "outputs": [],
   "source": [
    "# 3. Logging Configuration\n",
    "logging.basicConfig(\n",
    "    level=logging.DEBUG,\n",
    "    format=\"%(asctime)s [%(levelname)s] [%(threadName)s] %(message)s\",\n",
    "    handlers=[\n",
    "        logging.FileHandler(\"charging_selection.log\"), # Logs to a file\n",
    "        logging.StreamHandler() # Logs to the console\n",
    "    ]\n",
    ")\n",
    "logging.info(\"initialized logging\")"
   ]
  },
  {
   "cell_type": "code",
   "execution_count": null,
   "id": "1c250951-2718-43ce-b63b-32b742e2ca21",
   "metadata": {},
   "outputs": [],
   "source": [
    "3. Logging Setup\n",
    "This block configures logging to print messages to both the console and a log file (charging_selection.log).\n",
    "Logs are generated at the DEBUG level, which captures detailed logs during development."
   ]
  },
  {
   "cell_type": "code",
   "execution_count": null,
   "id": "eb2da813-0107-4a3d-9bc0-1cf02b190c22",
   "metadata": {},
   "outputs": [],
   "source": [
    "# 4. Robot and Charger Configuration Data\n",
    "\n",
    "charger_configurations = {\n",
    "    11: {\"X\": -15.262, \"Y\": 0.853, \"type\": 3},\n",
    "    12: {\"X\": -14.215, \"Y\": 0.830, \"type\": 3},\n",
    "    13: {\"X\": -0.162, \"Y\": 1.525, \"type\": 3},\n",
    "    14: {\"X\": -8.677, \"Y\": -0.988, \"type\": 3},\n",
    "    17: {\"X\": -0.504, \"Y\": -0.949, \"type\": 4},\n",
    "    18: {\"X\": -0.276, \"Y\": 0.067, \"type\": 4},\n",
    "}\n",
    "\n",
    "robotino_configurations = {\n",
    "    20: {\"type\": 3},\n",
    "    21: {\"type\": 3},\n",
    "    22: {\"type\": 3},\n",
    "    23: {\"type\": 3},\n",
    "    24: {\"type\": 4},\n",
    "    25: {\"type\": 4},\n",
    "}"
   ]
  },
  {
   "cell_type": "code",
   "execution_count": null,
   "id": "8e06f794-0e37-4994-92f4-488d84d67d2d",
   "metadata": {},
   "outputs": [],
   "source": [
    "4. Charger and Robot Configurations\n",
    "Chargers: The dictionary charger_configurations contains information about the chargers, including their X, Y coordinates and their type.\n",
    "Robotinos: The dictionary robotino_configurations contains the types of robots available in the fleet."
   ]
  },
  {
   "cell_type": "code",
   "execution_count": null,
   "id": "62053e25-c2a5-4a3c-b63e-7e73e3ed0d6b",
   "metadata": {},
   "outputs": [],
   "source": [
    "# 5. Fleet State Initialization\n",
    "\n",
    "fleet_state = {}  # Dictionary to store robots' battery, position, and other state information"
   ]
  },
  {
   "cell_type": "code",
   "execution_count": null,
   "id": "26273b82-e228-486e-a66b-c989ffe798e5",
   "metadata": {},
   "outputs": [],
   "source": [
    "5. Fleet State Management\n",
    "fleet_state is an empty dictionary that will later hold information about each robot in the fleet (such as its battery level, position, etc.)."
   ]
  },
  {
   "cell_type": "code",
   "execution_count": null,
   "id": "17b35df2-db69-4464-bf93-1112e03d1c67",
   "metadata": {},
   "outputs": [],
   "source": [
    "def calculate_distance(x1, y1, x2, y2):\n",
    "    \"\"\"\n",
    "    Calculates the Euclidean distance between two points (x1, y1) and (x2, y2).\n",
    "    \"\"\"\n",
    "    return math.sqrt((x2 - x1) ** 2 + (y2 - y1) ** 2)"
   ]
  },
  {
   "cell_type": "code",
   "execution_count": null,
   "id": "3bbe6977-0f71-4096-8f1c-9bb4cacbd775",
   "metadata": {},
   "outputs": [],
   "source": [
    "calculate_distance: This function computes the Euclidean distance between two points, given their X and Y coordinates."
   ]
  },
  {
   "cell_type": "code",
   "execution_count": null,
   "id": "eb57477d-3890-4f58-9d3b-06bfd3d380ad",
   "metadata": {},
   "outputs": [],
   "source": [
    "def is_charger_occupied(charger_id):\n",
    "    \"\"\"\n",
    "    Determines if a charger is occupied based on the current fleet state.\n",
    "    \"\"\"\n",
    "    # Fetch charger coordinates and type\n",
    "    charger_coords = charger_configurations[charger_id]\n",
    "    charger_x, charger_y = charger_coords[\"X\"], charger_coords[\"Y\"]\n",
    "    \n",
    "    # Check if any robot is within 20cm of the charger\n",
    "    for robot_id, robot_info in fleet_state.items():\n",
    "        robot_x, robot_y = robot_info['x'], robot_info['y']\n",
    "        distance = calculate_distance(charger_x, charger_y, robot_x, robot_y)\n",
    "        if distance <= 0.2:  # 20 cm threshold\n",
    "            return True  # Charger is occupied\n",
    "    return False  # Charger is not occupied\n"
   ]
  },
  {
   "cell_type": "code",
   "execution_count": null,
   "id": "d28d21e7-d4de-40b9-bac1-c8de685a3705",
   "metadata": {},
   "outputs": [],
   "source": [
    "is_charger_occupied:\n",
    "This function checks if a charger is occupied by a robot. It compares the robot's distance to the charger and considers the charger occupied if any robot is within 20 cm of the charger.\n",
    "\n"
   ]
  },
  {
   "cell_type": "code",
   "execution_count": null,
   "id": "845dd884-0419-407e-9b26-d860803b13eb",
   "metadata": {},
   "outputs": [],
   "source": [
    "def find_closest_free_charger(robot_id):\n",
    "    \"\"\"\n",
    "    Finds the closest unoccupied charger for the given Robotino ID based on its position.\n",
    "    \"\"\"\n",
    "    robot_x = fleet_state[robot_id]['x']\n",
    "    robot_y = fleet_state[robot_id]['y']\n",
    "    \n",
    "    closest_charger = None\n",
    "    shortest_distance = float('inf')\n",
    "\n",
    "    # Loop over chargers to find the closest unoccupied one\n",
    "    for charger_id, charger_config in charger_configurations.items():\n",
    "        if not is_charger_occupied(charger_id) and charger_config[\"type\"] == robotino_configurations[robot_id][\"type\"]:\n",
    "            distance = calculate_distance(robot_x, robot_y, charger_config[\"X\"], charger_config[\"Y\"])\n",
    "            if distance < shortest_distance:\n",
    "                closest_charger = charger_id\n",
    "                shortest_distance = distance\n",
    "    \n",
    "    return closest_charger\n"
   ]
  },
  {
   "cell_type": "code",
   "execution_count": null,
   "id": "9734ffc5-ab9e-473f-b782-1a293bf0702c",
   "metadata": {},
   "outputs": [],
   "source": [
    "find_closest_free_charger: \n",
    "This function finds the closest charger that is unoccupied and of the correct type for the given robot."
   ]
  },
  {
   "cell_type": "code",
   "execution_count": null,
   "id": "7a657a12-d760-408f-a49d-33bd2da6df3a",
   "metadata": {},
   "outputs": [],
   "source": [
    "def send_robot_to_closest_charger(robot_id):\n",
    "    \"\"\"\n",
    "    Generates a command to send the robot to the closest unoccupied charger.\n",
    "    \"\"\"\n",
    "    closest_charger = find_closest_free_charger(robot_id)\n",
    "    if closest_charger:\n",
    "        command = f\"PushJob GotoPosition {JobId} 1 {robot_id} {closest_charger}\\n\"\n",
    "        return command\n",
    "    return \"\"\n"
   ]
  },
  {
   "cell_type": "code",
   "execution_count": null,
   "id": "c09b0634-74cb-4af2-b945-af8e08e2add1",
   "metadata": {},
   "outputs": [],
   "source": [
    "send_robot_to_closest_charger: This function generates a command to move a robot to the closest unoccupied charger."
   ]
  },
  {
   "cell_type": "code",
   "execution_count": null,
   "id": "c858cd76-cf4a-45b6-b9ed-0b85f6776170",
   "metadata": {},
   "outputs": [],
   "source": [
    "def handle_incoming_messages(conn, addr):\n",
    "    \"\"\"\n",
    "    Handles incoming messages from the client.\n",
    "    \"\"\"\n",
    "    while True:\n",
    "        data = conn.recv(MAX_BUFFER_SIZE)\n",
    "        if not data:\n",
    "            break  # Connection closed\n",
    "        decoded_data = data.decode('utf-8').strip()\n",
    "        if \"FleetState\" in decoded_data:\n",
    "            process_fleet_state_response(decoded_data)\n"
   ]
  },
  {
   "cell_type": "code",
   "execution_count": null,
   "id": "ac16b263-a4a2-48bc-883b-5f872476ea37",
   "metadata": {},
   "outputs": [],
   "source": [
    "handle_incoming_messages: \n",
    "This function listens for incoming messages from the client, processes them, and updates the fleet state."
   ]
  },
  {
   "cell_type": "code",
   "execution_count": null,
   "id": "6bc9f77b-e1bb-4dbe-9d40-95b5e0e9c4a0",
   "metadata": {},
   "outputs": [],
   "source": [
    "def main():\n",
    "    \"\"\"\n",
    "    Main function to start the server, accept clients, and create threads for handling messages.\n",
    "    \"\"\"\n",
    "    with socket.socket(socket.AF_INET, socket.SOCK_STREAM) as s:\n",
    "        s.bind((HOST, PORT))\n",
    "        s.listen()\n",
    "        while True:\n",
    "            conn, addr = s.accept()\n",
    "            threading.Thread(target=handle_incoming_messages, args=(conn, addr)).start()"
   ]
  },
  {
   "cell_type": "code",
   "execution_count": null,
   "id": "eea33040-a00c-4297-8f4d-42ad090e6c26",
   "metadata": {},
   "outputs": [],
   "source": [
    "main:\n",
    "This is the entry point of the program where the server is started. It listens for client connections and starts a new thread for each client."
   ]
  },
  {
   "cell_type": "code",
   "execution_count": null,
   "id": "3f4fa6e5-a254-4a61-b04e-bc842440e33c",
   "metadata": {},
   "outputs": [],
   "source": [
    "Summary:\n",
    "Purpose: The code is a server-side script that manages a fleet of robots (Robotinos) by tracking their positions, battery status, and sending them to chargers when necessary.\n",
    "Components:\n",
    "Charger management: Finding the closest available charger.\n",
    "Fleet management: Storing and processing the robots' states.\n",
    "Client-server communication: Receiving fleet data and sending commands.\n",
    "Functionality: The server listens for incoming connections, processes fleet states, and sends robots to their respective chargers.\n"
   ]
  }
 ],
 "metadata": {
  "kernelspec": {
   "display_name": "Python 3 (ipykernel)",
   "language": "python",
   "name": "python3"
  },
  "language_info": {
   "codemirror_mode": {
    "name": "ipython",
    "version": 3
   },
   "file_extension": ".py",
   "mimetype": "text/x-python",
   "name": "python",
   "nbconvert_exporter": "python",
   "pygments_lexer": "ipython3",
   "version": "3.12.4"
  }
 },
 "nbformat": 4,
 "nbformat_minor": 5
}
