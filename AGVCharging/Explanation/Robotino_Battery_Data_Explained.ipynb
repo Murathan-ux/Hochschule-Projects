{
 "cells": [
  {
   "cell_type": "markdown",
   "id": "014fb98d-6bfa-4883-aad0-64967cec7fce",
   "metadata": {},
   "source": [
    "# Step 1: Check the Chassis Type\n",
    "\n",
    "This line checks if the chassis type of the Robotino is **'model3'**. \n",
    "\n",
    "- **`robotino.chassis_type`**: Refers to the type of chassis the Robotino is using, which can either be **'model3'** or **'model4'**.\n",
    "- **`if` statement**: Executes the block of code that follows only if the condition `robotino.chassis_type == 'model3'` is **True**.\n",
    "\n",
    "If the Robotino is of type **'model3'**, the code inside this block will set the correct voltage range for this model.\n",
    "\n"
   ]
  },
  {
   "cell_type": "code",
   "execution_count": 5,
   "id": "02bc660f-7266-4743-ac2e-3cedb6b1b578",
   "metadata": {},
   "outputs": [
    {
     "ename": "SyntaxError",
     "evalue": "incomplete input (3578532394.py, line 1)",
     "output_type": "error",
     "traceback": [
      "\u001b[1;36m  Cell \u001b[1;32mIn[5], line 1\u001b[1;36m\u001b[0m\n\u001b[1;33m    if robotino.chassis_type == 'model3':\u001b[0m\n\u001b[1;37m                                         ^\u001b[0m\n\u001b[1;31mSyntaxError\u001b[0m\u001b[1;31m:\u001b[0m incomplete input\n"
     ]
    }
   ],
   "source": [
    "if robotino.chassis_type == 'model3':\n"
   ]
  },
  {
   "cell_type": "markdown",
   "id": "3b4ee417-ee8a-4370-ac28-a612d189e904",
   "metadata": {},
   "source": [
    "# Step 2: Setting Voltage Ranges for Model 3\n",
    "\n",
    "If the Robotino chassis is **'model3'**, this block sets the correct voltage range:\n",
    "\n",
    "- **`max_voltage`**: The maximum voltage the battery can reach when fully charged, which for **model3** is set to **24.5V**.\n",
    "- **`min_voltage`**: The minimum voltage when the battery is completely discharged, which for **model3** is set to **18.5V**.\n",
    "\n",
    "These values are used to calculate the battery percentage based on the current voltage level.\n"
   ]
  },
  {
   "cell_type": "code",
   "execution_count": 6,
   "id": "70b9969c-605f-4eee-a960-37cb9b83cef6",
   "metadata": {},
   "outputs": [],
   "source": [
    "    max_voltage = 24.5\n",
    "    min_voltage = 18.5\n"
   ]
  },
  {
   "cell_type": "markdown",
   "id": "eefa8597-acc6-4de5-a883-f6687c65917c",
   "metadata": {},
   "source": [
    "# Step 3: Setting Voltage Ranges for Model 4\r\n",
    "\r\n",
    "If the Robotino chassis is **NOT 'model3'**, the script assumes the chassis is **'model4'** and sets the appropriate voltage ranges.\r\n",
    "\r\n",
    "- **`max_voltage`**: The maximum voltage for **model4** is set to **20.6V**.\r\n",
    "- **`min_voltage`**: The minimum voltage for **model4** is set to **15.8V**.\r\n",
    "\r\n",
    "This block ensures the correct voltage range is used for **model4** robots.\r\n"
   ]
  },
  {
   "cell_type": "code",
   "execution_count": 7,
   "id": "65b514c7-5489-4e36-ae6a-c5465f3c902a",
   "metadata": {},
   "outputs": [
    {
     "ename": "SyntaxError",
     "evalue": "invalid syntax (2396595408.py, line 1)",
     "output_type": "error",
     "traceback": [
      "\u001b[1;36m  Cell \u001b[1;32mIn[7], line 1\u001b[1;36m\u001b[0m\n\u001b[1;33m    else:\u001b[0m\n\u001b[1;37m    ^\u001b[0m\n\u001b[1;31mSyntaxError\u001b[0m\u001b[1;31m:\u001b[0m invalid syntax\n"
     ]
    }
   ],
   "source": [
    "else:\n",
    "    max_voltage = 20.6\n",
    "    min_voltage = 15.8\n"
   ]
  },
  {
   "cell_type": "markdown",
   "id": "6d5db606-909c-49b2-8495-8c5a3ee865b6",
   "metadata": {},
   "source": [
    "# Step 5: Calculate the Battery Percentage\n",
    "\n",
    "This line calculates the **battery percentage** based on the current voltage of the Robotino.\n",
    "\n",
    "### **Breakdown of the Formula**\n",
    "\n",
    "1. **Get the current battery voltage**:  \n",
    "   - **`robot[\"batteryvoltage\"]`**: The current voltage of the Robotino's battery.\n",
    "\n",
    "2. **Subtract the minimum voltage**:  \n",
    "   - This step calculates how much the current voltage has increased above the **minimum voltage**.\n",
    "\n",
    "3. **Normalize by the voltage range**:  \n",
    "   - Dividing the result from step 2 by **`voltage_range`** gives a value between **0** and **1**, which represents the percentage of the battery's charge relative to its capacity.\n",
    "\n",
    "4. **Convert to a percentage**:  \n",
    "   - Multiplying the normalized value by **100** scales the result to a percentage.\n",
    "\n",
    "5. **Convert to an integer**:  \n",
    "   - The **`int()`** function rounds the value to an integer, which eliminates any decimal points.\n",
    "\n",
    "The final result is the battery percentage of the Robotino, which can be used to display the current battery state.\n"
   ]
  },
  {
   "cell_type": "code",
   "execution_count": 9,
   "id": "e69876c8-0a98-43c4-b5a9-be5efb780266",
   "metadata": {},
   "outputs": [
    {
     "ename": "NameError",
     "evalue": "name 'robot' is not defined",
     "output_type": "error",
     "traceback": [
      "\u001b[1;31m---------------------------------------------------------------------------\u001b[0m",
      "\u001b[1;31mNameError\u001b[0m                                 Traceback (most recent call last)",
      "Cell \u001b[1;32mIn[9], line 1\u001b[0m\n\u001b[1;32m----> 1\u001b[0m battery_percentage \u001b[38;5;241m=\u001b[39m \u001b[38;5;28mint\u001b[39m(((robot[\u001b[38;5;124m\"\u001b[39m\u001b[38;5;124mbatteryvoltage\u001b[39m\u001b[38;5;124m\"\u001b[39m] \u001b[38;5;241m-\u001b[39m min_voltage) \u001b[38;5;241m/\u001b[39m voltage_range) \u001b[38;5;241m*\u001b[39m \u001b[38;5;241m100\u001b[39m)\n",
      "\u001b[1;31mNameError\u001b[0m: name 'robot' is not defined"
     ]
    }
   ],
   "source": [
    "battery_percentage = int(((robot[\"batteryvoltage\"] - min_voltage) / voltage_range) * 100)\n"
   ]
  },
  {
   "cell_type": "code",
   "execution_count": null,
   "id": "1afffbb1-a664-4c1f-ab63-e3e1fd2be96f",
   "metadata": {},
   "outputs": [],
   "source": []
  }
 ],
 "metadata": {
  "kernelspec": {
   "display_name": "Python 3 (ipykernel)",
   "language": "python",
   "name": "python3"
  },
  "language_info": {
   "codemirror_mode": {
    "name": "ipython",
    "version": 3
   },
   "file_extension": ".py",
   "mimetype": "text/x-python",
   "name": "python",
   "nbconvert_exporter": "python",
   "pygments_lexer": "ipython3",
   "version": "3.12.7"
  }
 },
 "nbformat": 4,
 "nbformat_minor": 5
}
