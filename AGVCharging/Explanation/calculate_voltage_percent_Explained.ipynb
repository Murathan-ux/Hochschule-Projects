{
 "cells": [
  {
   "cell_type": "markdown",
   "id": "8287be5c-2b1d-44f8-836a-74910a12a8d9",
   "metadata": {},
   "source": [
    "### Explanation of Code\n",
    "\n",
    "This script calculates the battery percentage for a Robotino robot based on its battery voltage. \n",
    "\n",
    "#### Key Steps:\n",
    "1. **Determine Voltage Range Based on Model**:\n",
    "   - The `chassis_type` of the Robotino determines the voltage limits:\n",
    "     - For `model3`, the voltage ranges from `18.5V` to `24.5V`.\n",
    "     - For `model4`, the voltage ranges from `15.8V` to `20.6V`.\n",
    "   - These values are set as `min_voltage` and `max_voltage` accordingly.\n",
    "\n",
    "2. **Calculate the Voltage Range**:\n",
    "   - The difference between `max_voltage` and `min_voltage` is stored in `voltage_range`.\n",
    "\n",
    "3. **Compute Battery Percentage**:\n",
    "   - The current battery voltage, `robot[\"batteryvoltage\"]`, is normalized against the voltage range using the formula:\n",
    "     \\[\n",
    "     \\text{battery\\_percentage} = \\left( \\frac{\\text{current\\_voltage} - \\text{min\\_voltage}}{\\text{voltage\\_range}} \\right) \\times 100\n",
    "     \\]\n",
    "   - The percentage is rounded down to the nearest whole number using `int()`.\n",
    "\n",
    "#### Purpose:\n",
    "This calculation allows the robot to display or manage its battery state based on voltage levels, adapting to the specific characteristics of its model type.\n"
   ]
  },
  {
   "cell_type": "code",
   "execution_count": 1,
   "id": "8025572c-38c8-4219-bea3-6f1a4a28adbc",
   "metadata": {},
   "outputs": [
    {
     "ename": "NameError",
     "evalue": "name 'robotino' is not defined",
     "output_type": "error",
     "traceback": [
      "\u001b[1;31m---------------------------------------------------------------------------\u001b[0m",
      "\u001b[1;31mNameError\u001b[0m                                 Traceback (most recent call last)",
      "Cell \u001b[1;32mIn[1], line 2\u001b[0m\n\u001b[0;32m      1\u001b[0m \u001b[38;5;66;03m# Determine min and max voltage based on chassis type\u001b[39;00m\n\u001b[1;32m----> 2\u001b[0m \u001b[38;5;28;01mif\u001b[39;00m robotino\u001b[38;5;241m.\u001b[39mchassis_type \u001b[38;5;241m==\u001b[39m \u001b[38;5;124m'\u001b[39m\u001b[38;5;124mmodel3\u001b[39m\u001b[38;5;124m'\u001b[39m:\n\u001b[0;32m      3\u001b[0m     \u001b[38;5;66;03m# Voltage range for model3\u001b[39;00m\n\u001b[0;32m      4\u001b[0m     max_voltage \u001b[38;5;241m=\u001b[39m \u001b[38;5;241m24.5\u001b[39m\n\u001b[0;32m      5\u001b[0m     min_voltage \u001b[38;5;241m=\u001b[39m \u001b[38;5;241m18.5\u001b[39m\n",
      "\u001b[1;31mNameError\u001b[0m: name 'robotino' is not defined"
     ]
    }
   ],
   "source": [
    "# Determine min and max voltage based on chassis type\n",
    "if robotino.chassis_type == 'model3':\n",
    "    # Voltage range for model3\n",
    "    max_voltage = 24.5\n",
    "    min_voltage = 18.5\n",
    "else:\n",
    "    # Voltage range for model4\n",
    "    max_voltage = 20.6\n",
    "    min_voltage = 15.8\n",
    "\n",
    "# Calculate battery percentage\n",
    "voltage_range = max_voltage - min_voltage\n",
    "battery_percentage = int(((robot[\"batteryvoltage\"] - min_voltage) / voltage_range) * 100)\n",
    "\n",
    "print(\"Battery percentage:\", battery_percentage)\n"
   ]
  }
 ],
 "metadata": {
  "kernelspec": {
   "display_name": "Python 3 (ipykernel)",
   "language": "python",
   "name": "python3"
  },
  "language_info": {
   "codemirror_mode": {
    "name": "ipython",
    "version": 3
   },
   "file_extension": ".py",
   "mimetype": "text/x-python",
   "name": "python",
   "nbconvert_exporter": "python",
   "pygments_lexer": "ipython3",
   "version": "3.12.7"
  }
 },
 "nbformat": 4,
 "nbformat_minor": 5
}
