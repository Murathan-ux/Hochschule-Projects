{
 "cells": [
  {
   "cell_type": "markdown",
   "id": "8c75911d-dcff-4760-a941-215a9a7d66f0",
   "metadata": {},
   "source": [
    "# Imports and Factory Configuration\r\n",
    "\r\n",
    "### 1. **Imports**\r\n",
    "The script imports several modules required for GUI, network communication, and randomization.\r\n",
    "- `tkinter`: Used to create the graphical user interface (GUI) for interaction and visualization.\r\n",
    "- `scrolledtext`: A component from `tkinter` to display logs with a scrollable text area.\r\n",
    "- `socket`: Used to establish UDP communication with the Robotino robots.\r\n",
    "- `random`: Used to simulate random robot movements.\r\n",
    "- `time`: Used to introduce delays in communication to mimic real-world network lag.\r\n",
    "\r\n",
    "### 2. **Factory Configuration**\r\n",
    "The factory is configured with details of:\r\n",
    "- **Robots**: IP addresses, locations, chassis types, and battery levels for six Robotino robots.\r\n",
    "- **Chargers**: Locations and compatibility with different Robotino models.\r\n",
    "- **Stations**: Locations of workstations or areas where robots interact with the environment.\r\n",
    "\r\n",
    "This configuration allows the system to visualize robot, charger, and station positions and track the state of each component.\r\n"
   ]
  },
  {
   "cell_type": "code",
   "execution_count": 1,
   "id": "62141e6b-e9e3-40ab-8732-2bc63040294f",
   "metadata": {},
   "outputs": [],
   "source": [
    "import tkinter as tk\n",
    "from tkinter import scrolledtext\n",
    "import socket\n",
    "import random\n",
    "import time\n",
    "\n",
    "# Factory configuration: Robotino, chargers, and stations (locations, types, etc.)\n",
    "factory_config = {\n",
    "    \"robots\": {\n",
    "        \"172.21.20.90\": {\"chassis_type\": \"model3\", \"location\": [2, 5], \"battery_level\": 100},\n",
    "        \"172.21.21.90\": {\"chassis_type\": \"model3\", \"location\": [6, 7], \"battery_level\": 100},\n",
    "        \"172.21.22.90\": {\"chassis_type\": \"model3\", \"location\": [1, 8], \"battery_level\": 100},\n",
    "        \"172.21.23.90\": {\"chassis_type\": \"model3\", \"location\": [3, 4], \"battery_level\": 100},\n",
    "        \"172.21.24.90\": {\"chassis_type\": \"model4\", \"location\": [5, 1], \"battery_level\": 100},\n",
    "        \"172.21.25.90\": {\"chassis_type\": \"model4\", \"location\": [4, 6], \"battery_level\": 100},\n",
    "    },\n",
    "    \"chargers\": {\n",
    "        \"Charger1\": {\"location\": [0, 0], \"chassis_type\": \"model3\"},\n",
    "        \"Charger2\": {\"location\": [8, 0], \"chassis_type\": \"model3\"},\n",
    "        \"Charger3\": {\"location\": [0, 8], \"chassis_type\": \"model3\"},\n",
    "        \"Charger4\": {\"location\": [8, 8], \"chassis_type\": \"model3\"},\n",
    "        \"Charger5\": {\"location\": [4, 0], \"chassis_type\": \"model4\"},\n",
    "        \"Charger6\": {\"location\": [0, 4], \"chassis_type\": \"model4\"},\n",
    "    },\n",
    "    \"stations\": {\n",
    "        \"1\": {\"type\": \"CP-F-RASS\", \"location\": [-12.313, 4.249], \"approach_location\": 1},\n",
    "        \"2\": {\"type\": \"CP-F-RASS\", \"location\": [-9.824, 4.267], \"approach_location\": 2},\n",
    "        \"3\": {\"type\": \"CP-F-RASS\", \"location\": [-7.398, 4.286], \"approach_location\": 3},\n",
    "    }\n",
    "}\n",
    "\n",
    "robotino_port = 13000  # UDP port for Robotino communication\n"
   ]
  },
  {
   "cell_type": "markdown",
   "id": "b41c0522-9e8d-4fb8-ba57-1fbaa3975ff6",
   "metadata": {},
   "source": [
    "# Distance Calculation\r\n",
    "\r\n",
    "### **Function: `calculate_distance(coord1, coord2)`**\r\n",
    "This function calculates the Euclidean distance between two points (2D coordinates) on a plane. It is essential for determining how far a robot is from a charger or station.\r\n",
    "\r\n",
    "#### **Parameters**\r\n",
    "- `coord1`: List or tuple of (x, y) coordinates for the first point.\r\n",
    "- `coord2`: List or tuple of (x, y) coordinates for the second point.\r\n",
    "\r\n",
    "#### **How It Works**\r\n",
    "1. Subtracts x and y coordinates of the two points.\r\n",
    "2. Squares the differences, sums them, and then takes the square root.\r\n",
    "\r\n",
    "#### **Use Case**\r\n",
    "This function is crucial for determining the closest charger to a robot.\r\n"
   ]
  },
  {
   "cell_type": "code",
   "execution_count": 2,
   "id": "b82a6d1d-5f1b-45b3-8331-952f0f18f5ac",
   "metadata": {},
   "outputs": [],
   "source": [
    "def calculate_distance(coord1, coord2):\n",
    "    return ((coord1[0] - coord2[0]) ** 2 + (coord1[1] - coord2[1]) ** 2) ** 0.5\n"
   ]
  },
  {
   "cell_type": "markdown",
   "id": "1f291768-6b94-45d1-b50d-b6538ad47fcc",
   "metadata": {},
   "source": [
    "# Find Nearest Charger\n",
    "\n",
    "### **Function: `find_nearest_charger(robot_location, chassis_type)`**\n",
    "This function identifies the closest compatible charger for a specific robot.\n",
    "\n",
    "#### **Parameters**\n",
    "- `robot_location`: Current (x, y) position of the robot.\n",
    "- `chassis_type`: The model of the robot (e.g., \"model3\" or \"model4\").\n",
    "\n",
    "#### **How It Works**\n",
    "1. Loops through all available chargers from the `factory_config`.\n",
    "2. Checks if the charger's chassis type is compatible with the robot's chassis type.\n",
    "3. Calculates the distance between the robot's location and the charger's location.\n",
    "4. Selects the charger with the minimum distance and returns its identifier.\n",
    "\n",
    "#### **Use Case**\n",
    "This function allows robots to automatically locate the nearest charging station that matches their chassis type.\n"
   ]
  },
  {
   "cell_type": "code",
   "execution_count": 3,
   "id": "5e5ce4e9-9c44-4067-a7aa-9220e20327db",
   "metadata": {},
   "outputs": [],
   "source": [
    "def find_nearest_charger(robot_location, chassis_type):\n",
    "    nearest = None\n",
    "    min_distance = float(\"inf\")\n",
    "    for charger, details in factory_config[\"chargers\"].items():\n",
    "        if details[\"chassis_type\"] == chassis_type:\n",
    "            distance = calculate_distance(robot_location, details[\"location\"])\n",
    "            if distance < min_distance:\n",
    "                min_distance = distance\n",
    "                nearest = charger\n",
    "    return nearest\n"
   ]
  },
  {
   "cell_type": "markdown",
   "id": "623daa00-a352-4465-91b1-a80621602808",
   "metadata": {},
   "source": [
    "# Send Commands via UDP\r\n",
    "\r\n",
    "### **Function: `send_command(command)`**\r\n",
    "This function sends a command to a selected Robotino robot using UDP protocol.\r\n",
    "\r\n",
    "#### **Parameters**\r\n",
    "- `command`: The command to send (e.g., \"GoTo [x, y]\" or \"DockToCharge\").\r\n",
    "\r\n",
    "#### **How It Works**\r\n",
    "1. Retrieves the IP address of the selected robot from the GUI dropdown.\r\n",
    "2. Sends the command to the robot using a UDP socket.\r\n",
    "3. Logs the message in the GUI and waits for 0.5 seconds to simulate network delay.\r\n",
    "4. Logs the robot's acknowledgment of the command.\r\n",
    "\r\n",
    "#### **Error Handling**\r\n",
    "If any error occurs during the transmission, it logs the error message.\r\n",
    "\r\n",
    "#### **Use Case**\r\n",
    "Used to control robot movement, docking, and other actions via network commands.\r\n"
   ]
  },
  {
   "cell_type": "code",
   "execution_count": 4,
   "id": "a235d75c-2bbc-4238-a59c-acf42c902673",
   "metadata": {},
   "outputs": [],
   "source": [
    "def send_command(command):\n",
    "    ip = selected_ip.get()  # Get the selected robot IP from the dropdown\n",
    "    try:\n",
    "        message = f\"{command}\"\n",
    "        udp_socket.sendto(message.encode(), (ip, robotino_port))  # Send command via UDP\n",
    "        log_message(f\"Sent to {ip}: {command}\")  # Log the sent command\n",
    "        time.sleep(0.5)  # Simulating communication delay\n",
    "        log_message(f\"Robotino {ip} acknowledged: {command}\")  # Log acknowledgment\n",
    "    except Exception as e:\n",
    "        log_message(f\"Error sending to {ip}: {e}\")  # Log any error\n"
   ]
  }
 ],
 "metadata": {
  "kernelspec": {
   "display_name": "Python 3 (ipykernel)",
   "language": "python",
   "name": "python3"
  },
  "language_info": {
   "codemirror_mode": {
    "name": "ipython",
    "version": 3
   },
   "file_extension": ".py",
   "mimetype": "text/x-python",
   "name": "python",
   "nbconvert_exporter": "python",
   "pygments_lexer": "ipython3",
   "version": "3.12.7"
  }
 },
 "nbformat": 4,
 "nbformat_minor": 5
}
