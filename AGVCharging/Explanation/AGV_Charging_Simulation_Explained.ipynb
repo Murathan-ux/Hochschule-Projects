{
 "cells": [
  {
   "cell_type": "markdown",
   "id": "6712a7d6",
   "metadata": {},
   "source": [
    "# Robotino Charging Simulation Notebook\n",
    "This notebook explains the Python script used for simulating the charging process of multiple Robotino robots. Each section contains a detailed explanation of the code followed by the corresponding implementation."
   ]
  },
  {
   "cell_type": "markdown",
   "id": "8a9e18a3",
   "metadata": {},
   "source": [
    "### Import Statements\n",
    "The necessary libraries are imported here. The `queue` module is used for priority management, and the `time` module is used to simulate delays in the charging process."
   ]
  },
  {
   "cell_type": "code",
   "execution_count": 1,
   "id": "b4237e33",
   "metadata": {},
   "outputs": [],
   "source": [
    "from queue import PriorityQueue\n",
    "import time"
   ]
  },
  {
   "cell_type": "markdown",
   "id": "0e03d34a",
   "metadata": {},
   "source": [
    "### Robotino Class\n",
    "This class defines the behavior of a Robotino robot, including its attributes such as:\n",
    "- `robot_id`: Unique identifier for the robot.\n",
    "- `version`: Version of the Robotino.\n",
    "- `battery_level`: Current battery level, default is 100%.\n",
    "\n",
    "Methods:\n",
    "- `drain_battery(amount)`: Reduces the battery by the specified amount.\n",
    "- `start_charging()`: Marks the Robotino as charging.\n",
    "- `stop_charging()`: Marks the Robotino as not charging.\n",
    "- `charge_battery(amount)`: Increases the battery level if charging."
   ]
  },
  {
   "cell_type": "code",
   "execution_count": null,
   "id": "cd80ae8c",
   "metadata": {},
   "outputs": [],
   "source": [
    "class Robotino:\n",
    "    def __init__(self, robot_id, version, battery_level=100):\n",
    "        self.robot_id = robot_id\n",
    "        self.version = version\n",
    "        self.battery_level = battery_level\n",
    "        self.is_charging = False\n",
    "\n",
    "    def drain_battery(self, amount=10):\n",
    "        if not self.is_charging:\n",
    "            self.battery_level = max(0, self.battery_level - amount)\n",
    "\n",
    "    def start_charging(self):\n",
    "        self.is_charging = True\n",
    "\n",
    "    def stop_charging(self):\n",
    "        self.is_charging = False\n",
    "\n",
    "    def charge_battery(self, amount=10):\n",
    "        if self.is_charging:\n",
    "            self.battery_level = min(100, self.battery_level + amount)"
   ]
  },
  {
   "cell_type": "markdown",
   "id": "dfc58a00",
   "metadata": {},
   "source": [
    "### Charger Class\n",
    "This class represents a charging station for Robotinos. It includes attributes such as:\n",
    "- `charger_id`: Unique identifier for the charger.\n",
    "- `occupied`: Indicates if the charger is in use.\n",
    "- `current_robotino`: References the Robotino currently being charged.\n",
    "\n",
    "Methods:\n",
    "- `connect_robotino(robotino)`: Connects a Robotino to the charger.\n",
    "- `disconnect_robotino()`: Disconnects the Robotino from the charger.\n",
    "- `charge_robotino(amount)`: Charges the connected Robotino by the specified amount."
   ]
  },
  {
   "cell_type": "code",
   "execution_count": null,
   "id": "887838b9",
   "metadata": {},
   "outputs": [],
   "source": [
    "class Charger:\n",
    "    def __init__(self, charger_id):\n",
    "        self.charger_id = charger_id\n",
    "        self.occupied = False\n",
    "        self.current_robotino = None\n",
    "\n",
    "    def connect_robotino(self, robotino):\n",
    "        if not self.occupied:\n",
    "            self.occupied = True\n",
    "            self.current_robotino = robotino\n",
    "            robotino.start_charging()\n",
    "\n",
    "    def disconnect_robotino(self):\n",
    "        if self.occupied and self.current_robotino:\n",
    "            self.current_robotino.stop_charging()\n",
    "            self.current_robotino = None\n",
    "            self.occupied = False\n",
    "\n",
    "    def charge_robotino(self, amount=10):\n",
    "        if self.occupied and self.current_robotino:\n",
    "            self.current_robotino.charge_battery(amount)"
   ]
  },
  {
   "cell_type": "markdown",
   "id": "020b465f",
   "metadata": {},
   "source": [
    "### Simulation Function\n",
    "The `simulate_charging_extended` function manages the simulation. It involves:\n",
    "- Draining battery levels for Robotinos.\n",
    "- Allocating chargers to low-battery Robotinos.\n",
    "- Charging the connected Robotinos.\n",
    "- Disconnecting fully charged Robotinos.\n",
    "\n",
    "Key parameters include:\n",
    "- `cycles`: Number of simulation cycles.\n",
    "- `drain_amount`: Battery drain per cycle.\n",
    "- `charge_amount`: Battery charge per cycle.\n",
    "- `low_battery_threshold`: Threshold below which Robotinos are prioritized for charging."
   ]
  },
  {
   "cell_type": "code",
   "execution_count": null,
   "id": "1cf0fe69",
   "metadata": {},
   "outputs": [],
   "source": [
    "def simulate_charging_extended(robotinos, chargers, cycles=10, drain_amount=15, charge_amount=20, low_battery_threshold=30):\n",
    "    robotino_lookup = {robotino.robot_id: robotino for robotino in robotinos}\n",
    "    total_cycles_charged = {robotino.robot_id: 0 for robotino in robotinos}\n",
    "\n",
    "    for cycle in range(cycles):\n",
    "        print(f\"Cycle {cycle + 1}:\")\n",
    "        low_battery_queue = PriorityQueue()\n",
    "\n",
    "        for robotino in robotinos:\n",
    "            robotino.drain_battery(drain_amount)\n",
    "            print(f\"{robotino.robot_id} battery level: {robotino.battery_level}%\")\n",
    "            if robotino.battery_level < low_battery_threshold and not robotino.is_charging:\n",
    "                robot_id_num = int(robotino.robot_id[1:])\n",
    "                low_battery_queue.put((robotino.battery_level, robot_id_num))\n",
    "\n",
    "        while not low_battery_queue.empty():\n",
    "            _, robot_id_num = low_battery_queue.get()\n",
    "            robot_id = f\"R{robot_id_num}\"\n",
    "            robotino = robotino_lookup[robot_id]\n",
    "\n",
    "            allocated = False\n",
    "            for charger in chargers:\n",
    "                if not charger.occupied:\n",
    "                    charger.connect_robotino(robotino)\n",
    "                    print(f\"{robotino.robot_id} connected to {charger.charger_id}\")\n",
    "                    allocated = True\n",
    "                    break\n",
    "            if not allocated:\n",
    "                print(f\"No available charger for {robotino.robot_id}. It remains in queue.\")\n",
    "\n",
    "        for charger in chargers:\n",
    "            charger.charge_robotino(charge_amount)\n",
    "            if charger.occupied:\n",
    "                total_cycles_charged[charger.current_robotino.robot_id] += 1\n",
    "                print(f\"{charger.current_robotino.robot_id} is charging on {charger.charger_id}, battery level: {charger.current_robotino.battery_level}%\")\n",
    "\n",
    "        for charger in chargers:\n",
    "            if charger.occupied and charger.current_robotino.battery_level >= 100:\n",
    "                print(f\"{charger.current_robotino.robot_id} fully charged and disconnecting from {charger.charger_id}\")\n",
    "                charger.disconnect_robotino()\n",
    "\n",
    "        time.sleep(1)\n",
    "        print(\"\\n\" + \"=\" * 40 + \"\\n\")\n",
    "\n",
    "    print(\"Simulation complete. Summary of charging cycles per Robotino:\")\n",
    "    for robot_id, cycles_charged in total_cycles_charged.items():\n",
    "        print(f\"{robot_id} spent {cycles_charged} cycles in charging.\")"
   ]
  },
  {
   "cell_type": "markdown",
   "id": "c353f2e4",
   "metadata": {},
   "source": [
    "### Initialization and Execution\n",
    "Here, Robotinos and chargers are initialized, and the simulation function is executed."
   ]
  },
  {
   "cell_type": "code",
   "execution_count": null,
   "id": "91892d1b",
   "metadata": {},
   "outputs": [],
   "source": [
    "robotinos = [Robotino(robot_id=f\"R{i + 1}\", version=3) for i in range(5)]\n",
    "robotinos.append(Robotino(robot_id=\"R6\", version=4))\n",
    "chargers = [Charger(charger_id=f\"C{i + 1}\") for i in range(6)]\n",
    "\n",
    "simulate_charging_extended(robotinos, chargers)"
   ]
  }
 ],
 "metadata": {
  "kernelspec": {
   "display_name": "Python 3 (ipykernel)",
   "language": "python",
   "name": "python3"
  },
  "language_info": {
   "codemirror_mode": {
    "name": "ipython",
    "version": 3
   },
   "file_extension": ".py",
   "mimetype": "text/x-python",
   "name": "python",
   "nbconvert_exporter": "python",
   "pygments_lexer": "ipython3",
   "version": "3.12.7"
  }
 },
 "nbformat": 4,
 "nbformat_minor": 5
}
